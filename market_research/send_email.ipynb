{
 "cells": [
  {
   "cell_type": "code",
   "execution_count": 1,
   "metadata": {},
   "outputs": [],
   "source": [
    "from tqdm import tqdm\n",
    "from matplotlib import pyplot as plt\n",
    "import smtplib\n",
    "from email.mime.text import MIMEText\n",
    "from email.mime.multipart import MIMEMultipart"
   ]
  },
  {
   "cell_type": "code",
   "execution_count": 9,
   "metadata": {},
   "outputs": [
    {
     "name": "stdout",
     "output_type": "stream",
     "text": [
      "CSV file created successfully.\n"
     ]
    }
   ],
   "source": [
    "## Test\n",
    "\n",
    "import pandas as pd\n",
    "\n",
    "# Create a DataFrame\n",
    "data = {'title': ['Dexan', ],\n",
    "        'email': ['ginggeli@hotmail.com', ]}\n",
    "\n",
    "df = pd.DataFrame(data)\n",
    "\n",
    "# Save the DataFrame to a CSV file\n",
    "df.to_csv('test_emails.csv', index=False)\n",
    "\n",
    "print(\"CSV file created successfully.\")\n",
    "\n",
    "# Load CSV data into DataFrame\n",
    "df = pd.read_csv('test_emails.csv')"
   ]
  },
  {
   "cell_type": "code",
   "execution_count": 4,
   "metadata": {},
   "outputs": [
    {
     "data": {
      "text/html": [
       "<div>\n",
       "<style scoped>\n",
       "    .dataframe tbody tr th:only-of-type {\n",
       "        vertical-align: middle;\n",
       "    }\n",
       "\n",
       "    .dataframe tbody tr th {\n",
       "        vertical-align: top;\n",
       "    }\n",
       "\n",
       "    .dataframe thead th {\n",
       "        text-align: right;\n",
       "    }\n",
       "</style>\n",
       "<table border=\"1\" class=\"dataframe\">\n",
       "  <thead>\n",
       "    <tr style=\"text-align: right;\">\n",
       "      <th></th>\n",
       "      <th>title</th>\n",
       "      <th>email</th>\n",
       "    </tr>\n",
       "  </thead>\n",
       "  <tbody>\n",
       "    <tr>\n",
       "      <th>0</th>\n",
       "      <td>Anfa uitzendbureau</td>\n",
       "      <td>info@anfa.nl</td>\n",
       "    </tr>\n",
       "    <tr>\n",
       "      <th>1</th>\n",
       "      <td>Aditech Utrecht</td>\n",
       "      <td>info@aditech.nl</td>\n",
       "    </tr>\n",
       "  </tbody>\n",
       "</table>\n",
       "</div>"
      ],
      "text/plain": [
       "                title            email\n",
       "0  Anfa uitzendbureau     info@anfa.nl\n",
       "1     Aditech Utrecht  info@aditech.nl"
      ]
     },
     "execution_count": 4,
     "metadata": {},
     "output_type": "execute_result"
    }
   ],
   "source": [
    "df = pd.read_csv(\"./market_data/processed.csv\")\n",
    "# Rename the column 'emails' to 'email'\n",
    "df = df.rename(columns={'emails': 'email'})\n",
    "df = df[['title', 'email']]\n",
    "df.head(2)"
   ]
  },
  {
   "cell_type": "code",
   "execution_count": 10,
   "metadata": {},
   "outputs": [
    {
     "data": {
      "text/plain": [
       "(1, 2)"
      ]
     },
     "execution_count": 10,
     "metadata": {},
     "output_type": "execute_result"
    }
   ],
   "source": [
    "df.shape"
   ]
  },
  {
   "cell_type": "code",
   "execution_count": 11,
   "metadata": {},
   "outputs": [
    {
     "data": {
      "image/png": "[encoded data removed]",
      "text/plain": [
       "<Figure size 640x480 with 1 Axes>"
      ]
     },
     "metadata": {},
     "output_type": "display_data"
    }
   ],
   "source": [
    "# Extract the part before the '@' symbol from each email address\n",
    "df['email_prefix'] = df['email'].str.split('@').str[0]\n",
    "\n",
    "# Plot a histogram of the email prefixes\n",
    "df['email_prefix'].hist()\n",
    "\n",
    "# Display the plot\n",
    "plt.show()"
   ]
  },
  {
   "cell_type": "code",
   "execution_count": null,
   "metadata": {},
   "outputs": [],
   "source": []
  },
  {
   "cell_type": "code",
   "execution_count": 12,
   "metadata": {},
   "outputs": [],
   "source": [
    "# Email configuration\n",
    "username = \"info@bolar.co\"\n",
    "password = \"Utrecht54321\"\n",
    "hostname = \"bolar.co\"\n",
    "port = 465  # SMTP Port for SSL/TLS\n",
    "sender_email = username"
   ]
  },
  {
   "cell_type": "code",
   "execution_count": null,
   "metadata": {},
   "outputs": [],
   "source": []
  },
  {
   "cell_type": "code",
   "execution_count": 13,
   "metadata": {},
   "outputs": [
    {
     "name": "stderr",
     "output_type": "stream",
     "text": [
      "Sending Emails: 100%|██████████| 1/1 [00:00<00:00,  2.78email/s]"
     ]
    },
    {
     "name": "stdout",
     "output_type": "stream",
     "text": [
      "ginggeli@hotmail.com email sent successfully.\n"
     ]
    },
    {
     "name": "stderr",
     "output_type": "stream",
     "text": [
      "\n"
     ]
    }
   ],
   "source": [
    "def send_email(df, sender_email, username, password, hostname, port):\n",
    "\n",
    "    progress_bar = tqdm(total=len(df), desc=\"Sending Emails\", unit=\"email\")\n",
    "    # Iterate over rows and send emails\n",
    "    for index, row in df.iterrows():\n",
    "        recipient_email = row['email']\n",
    "        title = row['title']\n",
    "        \n",
    "        # Email content\n",
    "        subject = \"Ontdek de kracht van gerichte marketing voor jouw lokale bedrijf!\"\n",
    "        body = f\"\"\"Beste {title},<br />\n",
    "            <br />\n",
    "            Klaar om jouw lokale bedrijf te laten groeien met gerichte marketing? Ontdek onze exclusieve e-maillijsten voor lokale bedrijven!<br />            \n",
    "            \n",
    "            <ul>\n",
    "                <li>✔️ <strong>Impact</strong>: Bereik potentiële klanten met een impactvolle benadering.</li>\n",
    "                <li>✔️ <strong>Omzetboost</strong>: Verhoog je omzet met een uitgebreide lijst van e-mailadressen.</li>\n",
    "                <li>✔️ <strong>Optimaliseer</strong>: Bereik jouw doelgroep persoonlijk en relevant.</li>\n",
    "                <li>✔️ <strong>Waardevolle contacten</strong>: Bespaar tijd en moeite met directe toegang tot waardevolle contacten.</li>\n",
    "            </ul>\n",
    "            <br />\n",
    "            Bekijk ons <strong>exclusieve aanbod</strong> op <a href=\"http://www.bolar.co\">www.bolar.co</a> en vraag vrijblijvend een gratis offerte aan. Til jouw marketing naar een hoger niveau en zie direct resultaat<br />\n",
    "            <br />\n",
    "            Met vriendelijke groet,<br />\n",
    "            Het team van Bolar\n",
    "            \"\"\"\n",
    "\n",
    "        # Construct email message\n",
    "        message = MIMEMultipart()\n",
    "        message['From'] = sender_email\n",
    "        message['To'] = recipient_email\n",
    "        message['Subject'] = subject\n",
    "        message.attach(MIMEText(body, 'html'))\n",
    "\n",
    "        try:\n",
    "            # Create SMTP session with SSL/TLS\n",
    "            with smtplib.SMTP_SSL(hostname, port) as server:\n",
    "                server.login(username, password)\n",
    "                server.sendmail(sender_email, recipient_email, message.as_string())\n",
    "                print(f\"{recipient_email} email sent successfully.\")\n",
    "        except Exception as e:\n",
    "            print(f\"{recipient_email} Failed to send: {e}\")\n",
    "        \n",
    "        # Update the progress bar\n",
    "        progress_bar.update(1)\n",
    "\n",
    "    # Close the progress bar\n",
    "    progress_bar.close()\n",
    "\n",
    "send_email(df, sender_email, username, password, hostname, port)"
   ]
  },
  {
   "cell_type": "code",
   "execution_count": null,
   "metadata": {},
   "outputs": [],
   "source": []
  },
  {
   "cell_type": "code",
   "execution_count": null,
   "metadata": {},
   "outputs": [],
   "source": []
  },
  {
   "cell_type": "code",
   "execution_count": null,
   "metadata": {},
   "outputs": [],
   "source": []
  },
  {
   "cell_type": "code",
   "execution_count": null,
   "metadata": {},
   "outputs": [],
   "source": []
  },
  {
   "cell_type": "code",
   "execution_count": null,
   "metadata": {},
   "outputs": [],
   "source": []
  },
  {
   "cell_type": "code",
   "execution_count": null,
   "metadata": {},
   "outputs": [],
   "source": []
  },
  {
   "cell_type": "code",
   "execution_count": null,
   "metadata": {},
   "outputs": [],
   "source": []
  }
 ],
 "metadata": {
  "kernelspec": {
   "display_name": "wenv",
   "language": "python",
   "name": "python3"
  },
  "language_info": {
   "codemirror_mode": {
    "name": "ipython",
    "version": 3
   },
   "file_extension": ".py",
   "mimetype": "text/x-python",
   "name": "python",
   "nbconvert_exporter": "python",
   "pygments_lexer": "ipython3",
   "version": "3.11.5"
  }
 },
 "nbformat": 4,
 "nbformat_minor": 2
}
