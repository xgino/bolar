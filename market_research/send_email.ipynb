{
 "cells": [
  {
   "cell_type": "code",
   "execution_count": 1,
   "metadata": {},
   "outputs": [],
   "source": [
    "from tqdm import tqdm\n",
    "from matplotlib import pyplot as plt\n",
    "import pandas as pd\n",
    "import re\n",
    "import smtplib\n",
    "from email.mime.text import MIMEText\n",
    "from email.mime.multipart import MIMEMultipart"
   ]
  },
  {
   "cell_type": "code",
   "execution_count": 2,
   "metadata": {},
   "outputs": [
    {
     "data": {
      "text/html": [
       "<div>\n",
       "<style scoped>\n",
       "    .dataframe tbody tr th:only-of-type {\n",
       "        vertical-align: middle;\n",
       "    }\n",
       "\n",
       "    .dataframe tbody tr th {\n",
       "        vertical-align: top;\n",
       "    }\n",
       "\n",
       "    .dataframe thead th {\n",
       "        text-align: right;\n",
       "    }\n",
       "</style>\n",
       "<table border=\"1\" class=\"dataframe\">\n",
       "  <thead>\n",
       "    <tr style=\"text-align: right;\">\n",
       "      <th></th>\n",
       "      <th>title</th>\n",
       "      <th>email</th>\n",
       "    </tr>\n",
       "  </thead>\n",
       "  <tbody>\n",
       "    <tr>\n",
       "      <th>0</th>\n",
       "      <td>Anfa uitzendbureau</td>\n",
       "      <td>info@anfa.nl</td>\n",
       "    </tr>\n",
       "    <tr>\n",
       "      <th>1</th>\n",
       "      <td>Aditech Utrecht</td>\n",
       "      <td>info@aditech.nl</td>\n",
       "    </tr>\n",
       "  </tbody>\n",
       "</table>\n",
       "</div>"
      ],
      "text/plain": [
       "                title            email\n",
       "0  Anfa uitzendbureau     info@anfa.nl\n",
       "1     Aditech Utrecht  info@aditech.nl"
      ]
     },
     "execution_count": 2,
     "metadata": {},
     "output_type": "execute_result"
    }
   ],
   "source": [
    "df = pd.read_csv(\"./market_data/processed.csv\")\n",
    "# Rename the column 'emails' to 'email'\n",
    "df = df.rename(columns={'emails': 'email'})\n",
    "df = df[['title', 'email']]\n",
    "df.head(2)"
   ]
  },
  {
   "cell_type": "code",
   "execution_count": 3,
   "metadata": {},
   "outputs": [
    {
     "data": {
      "text/plain": [
       "(83, 2)"
      ]
     },
     "execution_count": 3,
     "metadata": {},
     "output_type": "execute_result"
    }
   ],
   "source": [
    "df.shape"
   ]
  },
  {
   "cell_type": "code",
   "execution_count": 4,
   "metadata": {},
   "outputs": [
    {
     "name": "stdout",
     "output_type": "stream",
     "text": [
      "Emails with duplicates:\n",
      "                               title                                   email\n",
      "59  Top Secretaries Midden Nederland  info@topsecretaries.nl, info@adecco.nl\n"
     ]
    }
   ],
   "source": [
    "# Find rows with duplicate emails\n",
    "duplicate_rows = df[df['email'].str.count(',') >= 1]\n",
    "\n",
    "# Print the emails with duplicates\n",
    "print(\"Emails with duplicates:\")\n",
    "print(duplicate_rows[['title', 'email']])"
   ]
  },
  {
   "cell_type": "code",
   "execution_count": 5,
   "metadata": {},
   "outputs": [
    {
     "name": "stdout",
     "output_type": "stream",
     "text": [
      "\n",
      "Modified DataFrame:\n",
      "                              title                   email\n",
      "0  Top Secretaries Midden Nederland  info@topsecretaries.nl\n",
      "1  Top Secretaries Midden Nederland          info@adecco.nl\n"
     ]
    }
   ],
   "source": [
    "# Split the 'email' column into multiple rows with the same title\n",
    "df_copy = duplicate_rows.assign(email=duplicate_rows['email'].str.split(','))\n",
    "\n",
    "# Explode the DataFrame to create a new row for each email\n",
    "df_copy = df_copy.explode('email').reset_index(drop=True)\n",
    "\n",
    "# Display the modified DataFrame\n",
    "print(\"\\nModified DataFrame:\")\n",
    "print(df_copy[['title', 'email']])"
   ]
  },
  {
   "cell_type": "code",
   "execution_count": 6,
   "metadata": {},
   "outputs": [
    {
     "name": "stdout",
     "output_type": "stream",
     "text": [
      "\n",
      "Updated DataFrame:\n"
     ]
    }
   ],
   "source": [
    "# Remove rows with duplicate emails from the original DataFrame\n",
    "df = df[~df.index.isin(duplicate_rows.index)]\n",
    "\n",
    "# Merge the modified DataFrame back into the original DataFrame\n",
    "df = pd.concat([df, df_copy], ignore_index=True)\n",
    "\n",
    "# Display the updated DataFrame\n",
    "print(\"\\nUpdated DataFrame:\")"
   ]
  },
  {
   "cell_type": "code",
   "execution_count": 7,
   "metadata": {},
   "outputs": [
    {
     "data": {
      "text/plain": [
       "(84, 2)"
      ]
     },
     "execution_count": 7,
     "metadata": {},
     "output_type": "execute_result"
    }
   ],
   "source": [
    "df.shape"
   ]
  },
  {
   "cell_type": "code",
   "execution_count": 8,
   "metadata": {},
   "outputs": [
    {
     "name": "stdout",
     "output_type": "stream",
     "text": [
      "CSV file created successfully.\n"
     ]
    },
    {
     "data": {
      "text/html": [
       "<div>\n",
       "<style scoped>\n",
       "    .dataframe tbody tr th:only-of-type {\n",
       "        vertical-align: middle;\n",
       "    }\n",
       "\n",
       "    .dataframe tbody tr th {\n",
       "        vertical-align: top;\n",
       "    }\n",
       "\n",
       "    .dataframe thead th {\n",
       "        text-align: right;\n",
       "    }\n",
       "</style>\n",
       "<table border=\"1\" class=\"dataframe\">\n",
       "  <thead>\n",
       "    <tr style=\"text-align: right;\">\n",
       "      <th></th>\n",
       "      <th>title</th>\n",
       "      <th>email</th>\n",
       "    </tr>\n",
       "  </thead>\n",
       "  <tbody>\n",
       "    <tr>\n",
       "      <th>0</th>\n",
       "      <td>Bolar</td>\n",
       "      <td>info@bolar.co</td>\n",
       "    </tr>\n",
       "    <tr>\n",
       "      <th>1</th>\n",
       "      <td>Dexan Goldelux</td>\n",
       "      <td>ginggeli@hotmail.com</td>\n",
       "    </tr>\n",
       "    <tr>\n",
       "      <th>2</th>\n",
       "      <td>xGino</td>\n",
       "      <td>qingge43@gmail.com</td>\n",
       "    </tr>\n",
       "    <tr>\n",
       "      <th>3</th>\n",
       "      <td>Tresto BV</td>\n",
       "      <td>Mohamed.doudellla@gmail.com</td>\n",
       "    </tr>\n",
       "    <tr>\n",
       "      <th>4</th>\n",
       "      <td>Doudella Agency</td>\n",
       "      <td>Info@doudella.com</td>\n",
       "    </tr>\n",
       "  </tbody>\n",
       "</table>\n",
       "</div>"
      ],
      "text/plain": [
       "             title                        email\n",
       "0            Bolar                info@bolar.co\n",
       "1   Dexan Goldelux         ginggeli@hotmail.com\n",
       "2            xGino           qingge43@gmail.com\n",
       "3        Tresto BV  Mohamed.doudellla@gmail.com\n",
       "4  Doudella Agency            Info@doudella.com"
      ]
     },
     "execution_count": 8,
     "metadata": {},
     "output_type": "execute_result"
    }
   ],
   "source": [
    "# Create a DataFrame\n",
    "test_data = {'title': ['Bolar', 'Dexan Goldelux', 'xGino', 'Tresto BV', 'Doudella Agency'],\n",
    "        'email': ['info@bolar.co', 'ginggeli@hotmail.com', 'qingge43@gmail.com', 'Mohamed.doudellla@gmail.com', 'Info@doudella.com']}\n",
    "\n",
    "test_df = pd.DataFrame(test_data)\n",
    "\n",
    "# Save the DataFrame to a CSV file\n",
    "test_df.to_csv('test_emails.csv', index=False)\n",
    "\n",
    "print(\"CSV file created successfully.\")\n",
    "\n",
    "# Load CSV data into DataFrame\n",
    "test_df = pd.read_csv('test_emails.csv')\n",
    "test_df.head()"
   ]
  },
  {
   "cell_type": "code",
   "execution_count": 9,
   "metadata": {},
   "outputs": [
    {
     "data": {
      "text/plain": [
       "(89, 2)"
      ]
     },
     "execution_count": 9,
     "metadata": {},
     "output_type": "execute_result"
    }
   ],
   "source": [
    "df = pd.concat([df, test_df], ignore_index=True)\n",
    "df.shape"
   ]
  },
  {
   "cell_type": "code",
   "execution_count": 11,
   "metadata": {},
   "outputs": [
    {
     "data": {
      "text/html": [
       "<div>\n",
       "<style scoped>\n",
       "    .dataframe tbody tr th:only-of-type {\n",
       "        vertical-align: middle;\n",
       "    }\n",
       "\n",
       "    .dataframe tbody tr th {\n",
       "        vertical-align: top;\n",
       "    }\n",
       "\n",
       "    .dataframe thead th {\n",
       "        text-align: right;\n",
       "    }\n",
       "</style>\n",
       "<table border=\"1\" class=\"dataframe\">\n",
       "  <thead>\n",
       "    <tr style=\"text-align: right;\">\n",
       "      <th></th>\n",
       "      <th>title</th>\n",
       "      <th>email</th>\n",
       "    </tr>\n",
       "  </thead>\n",
       "  <tbody>\n",
       "    <tr>\n",
       "      <th>79</th>\n",
       "      <td>Carrière Vormer</td>\n",
       "      <td>info@carrierevormer.nl</td>\n",
       "    </tr>\n",
       "    <tr>\n",
       "      <th>80</th>\n",
       "      <td>FBRC GGZ Werving</td>\n",
       "      <td>info@ggz-werving.nl</td>\n",
       "    </tr>\n",
       "    <tr>\n",
       "      <th>81</th>\n",
       "      <td>Uitbestedingscentrum</td>\n",
       "      <td>info@uitbestedingscentrum.nl</td>\n",
       "    </tr>\n",
       "    <tr>\n",
       "      <th>82</th>\n",
       "      <td>Top Secretaries Midden Nederland</td>\n",
       "      <td>info@topsecretaries.nl</td>\n",
       "    </tr>\n",
       "    <tr>\n",
       "      <th>83</th>\n",
       "      <td>Top Secretaries Midden Nederland</td>\n",
       "      <td>info@adecco.nl</td>\n",
       "    </tr>\n",
       "    <tr>\n",
       "      <th>84</th>\n",
       "      <td>Bolar</td>\n",
       "      <td>info@bolar.co</td>\n",
       "    </tr>\n",
       "    <tr>\n",
       "      <th>85</th>\n",
       "      <td>Dexan Goldelux</td>\n",
       "      <td>ginggeli@hotmail.com</td>\n",
       "    </tr>\n",
       "    <tr>\n",
       "      <th>86</th>\n",
       "      <td>xGino</td>\n",
       "      <td>qingge43@gmail.com</td>\n",
       "    </tr>\n",
       "    <tr>\n",
       "      <th>87</th>\n",
       "      <td>Tresto BV</td>\n",
       "      <td>Mohamed.doudellla@gmail.com</td>\n",
       "    </tr>\n",
       "    <tr>\n",
       "      <th>88</th>\n",
       "      <td>Doudella Agency</td>\n",
       "      <td>Info@doudella.com</td>\n",
       "    </tr>\n",
       "  </tbody>\n",
       "</table>\n",
       "</div>"
      ],
      "text/plain": [
       "                               title                         email\n",
       "79                   Carrière Vormer        info@carrierevormer.nl\n",
       "80                  FBRC GGZ Werving           info@ggz-werving.nl\n",
       "81              Uitbestedingscentrum  info@uitbestedingscentrum.nl\n",
       "82  Top Secretaries Midden Nederland        info@topsecretaries.nl\n",
       "83  Top Secretaries Midden Nederland                info@adecco.nl\n",
       "84                             Bolar                 info@bolar.co\n",
       "85                    Dexan Goldelux          ginggeli@hotmail.com\n",
       "86                             xGino            qingge43@gmail.com\n",
       "87                         Tresto BV   Mohamed.doudellla@gmail.com\n",
       "88                   Doudella Agency             Info@doudella.com"
      ]
     },
     "execution_count": 11,
     "metadata": {},
     "output_type": "execute_result"
    }
   ],
   "source": [
    "df.tail(10)"
   ]
  },
  {
   "cell_type": "code",
   "execution_count": 12,
   "metadata": {},
   "outputs": [],
   "source": [
    "# Save the DataFrame to a CSV file\n",
    "df.to_csv('send_email.csv', index=False)"
   ]
  },
  {
   "cell_type": "code",
   "execution_count": null,
   "metadata": {},
   "outputs": [],
   "source": [
    "# Extract the part before the '@' symbol from each email address\n",
    "df['email_prefix'] = df['email'].str.split('@').str[0]\n",
    "\n",
    "# Plot a histogram of the email prefixes\n",
    "df['email_prefix'].hist()\n",
    "\n",
    "# Display the plot\n",
    "plt.show()"
   ]
  },
  {
   "cell_type": "code",
   "execution_count": null,
   "metadata": {},
   "outputs": [],
   "source": []
  },
  {
   "cell_type": "code",
   "execution_count": 13,
   "metadata": {},
   "outputs": [],
   "source": [
    "# Email configuration\n",
    "username = \"info@bolar.co\"\n",
    "password = \"Utrecht54321\"\n",
    "hostname = \"bolar.co\"\n",
    "port = 465  # SMTP Port for SSL/TLS\n",
    "sender_email = username"
   ]
  },
  {
   "cell_type": "code",
   "execution_count": null,
   "metadata": {},
   "outputs": [],
   "source": []
  },
  {
   "cell_type": "code",
   "execution_count": 14,
   "metadata": {},
   "outputs": [
    {
     "name": "stderr",
     "output_type": "stream",
     "text": [
      "Sending Emails:   1%|          | 1/89 [00:00<01:19,  1.10email/s]"
     ]
    },
    {
     "name": "stdout",
     "output_type": "stream",
     "text": [
      "info@anfa.nl email sent successfully.\n"
     ]
    },
    {
     "name": "stderr",
     "output_type": "stream",
     "text": [
      "Sending Emails:   2%|▏         | 2/89 [00:01<01:02,  1.40email/s]"
     ]
    },
    {
     "name": "stdout",
     "output_type": "stream",
     "text": [
      "info@aditech.nl email sent successfully.\n"
     ]
    },
    {
     "name": "stderr",
     "output_type": "stream",
     "text": [
      "Sending Emails:   3%|▎         | 3/89 [00:01<00:53,  1.61email/s]"
     ]
    },
    {
     "name": "stdout",
     "output_type": "stream",
     "text": [
      "info@vetwork.nl email sent successfully.\n"
     ]
    },
    {
     "name": "stderr",
     "output_type": "stream",
     "text": [
      "Sending Emails:   4%|▍         | 4/89 [00:02<00:53,  1.59email/s]"
     ]
    },
    {
     "name": "stdout",
     "output_type": "stream",
     "text": [
      "info@azoruitzendbureau.nl email sent successfully.\n"
     ]
    },
    {
     "name": "stderr",
     "output_type": "stream",
     "text": [
      "Sending Emails:   6%|▌         | 5/89 [00:03<00:59,  1.41email/s]"
     ]
    },
    {
     "name": "stdout",
     "output_type": "stream",
     "text": [
      "info@verein.nl email sent successfully.\n"
     ]
    },
    {
     "name": "stderr",
     "output_type": "stream",
     "text": [
      "Sending Emails:   7%|▋         | 6/89 [00:04<00:55,  1.49email/s]"
     ]
    },
    {
     "name": "stdout",
     "output_type": "stream",
     "text": [
      "info@dewerknemerspoule.nl email sent successfully.\n"
     ]
    },
    {
     "name": "stderr",
     "output_type": "stream",
     "text": [
      "Sending Emails:   8%|▊         | 7/89 [00:04<00:54,  1.51email/s]"
     ]
    },
    {
     "name": "stdout",
     "output_type": "stream",
     "text": [
      "info@poolsekracht.nl email sent successfully.\n"
     ]
    },
    {
     "name": "stderr",
     "output_type": "stream",
     "text": [
      "Sending Emails:   9%|▉         | 8/89 [00:05<00:51,  1.58email/s]"
     ]
    },
    {
     "name": "stdout",
     "output_type": "stream",
     "text": [
      "info@rvaring.nl email sent successfully.\n"
     ]
    },
    {
     "name": "stderr",
     "output_type": "stream",
     "text": [
      "Sending Emails:  10%|█         | 9/89 [00:05<00:51,  1.56email/s]"
     ]
    },
    {
     "name": "stdout",
     "output_type": "stream",
     "text": [
      "info@vnom.nl email sent successfully.\n"
     ]
    },
    {
     "name": "stderr",
     "output_type": "stream",
     "text": [
      "Sending Emails:  11%|█         | 10/89 [00:06<00:48,  1.62email/s]"
     ]
    },
    {
     "name": "stdout",
     "output_type": "stream",
     "text": [
      "info@naardingenvandermeer.nl email sent successfully.\n"
     ]
    },
    {
     "name": "stderr",
     "output_type": "stream",
     "text": [
      "Sending Emails:  12%|█▏        | 11/89 [00:07<00:49,  1.57email/s]"
     ]
    },
    {
     "name": "stdout",
     "output_type": "stream",
     "text": [
      "info@evenwerkt.nl email sent successfully.\n"
     ]
    },
    {
     "name": "stderr",
     "output_type": "stream",
     "text": [
      "Sending Emails:  13%|█▎        | 12/89 [00:07<00:48,  1.57email/s]"
     ]
    },
    {
     "name": "stdout",
     "output_type": "stream",
     "text": [
      "info@doorwerker.nl email sent successfully.\n"
     ]
    },
    {
     "name": "stderr",
     "output_type": "stream",
     "text": [
      "Sending Emails:  15%|█▍        | 13/89 [00:08<00:47,  1.59email/s]"
     ]
    },
    {
     "name": "stdout",
     "output_type": "stream",
     "text": [
      "info@adecco.nl email sent successfully.\n"
     ]
    },
    {
     "name": "stderr",
     "output_type": "stream",
     "text": [
      "Sending Emails:  16%|█▌        | 14/89 [00:09<00:46,  1.61email/s]"
     ]
    },
    {
     "name": "stdout",
     "output_type": "stream",
     "text": [
      "info@go-office.nl email sent successfully.\n"
     ]
    },
    {
     "name": "stderr",
     "output_type": "stream",
     "text": [
      "Sending Emails:  17%|█▋        | 15/89 [00:09<00:47,  1.57email/s]"
     ]
    },
    {
     "name": "stdout",
     "output_type": "stream",
     "text": [
      "info@u-bossuitzendbureau.nl email sent successfully.\n"
     ]
    },
    {
     "name": "stderr",
     "output_type": "stream",
     "text": [
      "Sending Emails:  18%|█▊        | 16/89 [00:10<00:46,  1.58email/s]"
     ]
    },
    {
     "name": "stdout",
     "output_type": "stream",
     "text": [
      "info@nowjobs.nl email sent successfully.\n"
     ]
    },
    {
     "name": "stderr",
     "output_type": "stream",
     "text": [
      "Sending Emails:  19%|█▉        | 17/89 [00:11<00:48,  1.47email/s]"
     ]
    },
    {
     "name": "stdout",
     "output_type": "stream",
     "text": [
      "info@urgent-uitzendburo.nl email sent successfully.\n"
     ]
    },
    {
     "name": "stderr",
     "output_type": "stream",
     "text": [
      "Sending Emails:  20%|██        | 18/89 [00:11<00:45,  1.55email/s]"
     ]
    },
    {
     "name": "stdout",
     "output_type": "stream",
     "text": [
      "info@youngcapital.nl email sent successfully.\n"
     ]
    },
    {
     "name": "stderr",
     "output_type": "stream",
     "text": [
      "Sending Emails:  21%|██▏       | 19/89 [00:12<00:40,  1.72email/s]"
     ]
    },
    {
     "name": "stdout",
     "output_type": "stream",
     "text": [
      "info@mijnsalesrecruiter.nl email sent successfully.\n"
     ]
    },
    {
     "name": "stderr",
     "output_type": "stream",
     "text": [
      "Sending Emails:  22%|██▏       | 20/89 [00:12<00:44,  1.55email/s]"
     ]
    },
    {
     "name": "stdout",
     "output_type": "stream",
     "text": [
      "info@thesolutionzgroup.com email sent successfully.\n"
     ]
    },
    {
     "name": "stderr",
     "output_type": "stream",
     "text": [
      "Sending Emails:  24%|██▎       | 21/89 [00:13<00:44,  1.52email/s]"
     ]
    },
    {
     "name": "stdout",
     "output_type": "stream",
     "text": [
      "info@suilen.nl email sent successfully.\n"
     ]
    },
    {
     "name": "stderr",
     "output_type": "stream",
     "text": [
      "Sending Emails:  25%|██▍       | 22/89 [00:16<01:21,  1.22s/email]"
     ]
    },
    {
     "name": "stdout",
     "output_type": "stream",
     "text": [
      "info@jobsformoms.nl email sent successfully.\n"
     ]
    },
    {
     "name": "stderr",
     "output_type": "stream",
     "text": [
      "Sending Emails:  26%|██▌       | 23/89 [00:17<01:14,  1.13s/email]"
     ]
    },
    {
     "name": "stdout",
     "output_type": "stream",
     "text": [
      "info@impactgroup.nl email sent successfully.\n"
     ]
    },
    {
     "name": "stderr",
     "output_type": "stream",
     "text": [
      "Sending Emails:  27%|██▋       | 24/89 [00:17<01:06,  1.02s/email]"
     ]
    },
    {
     "name": "stdout",
     "output_type": "stream",
     "text": [
      "info@derec.nl email sent successfully.\n"
     ]
    },
    {
     "name": "stderr",
     "output_type": "stream",
     "text": [
      "Sending Emails:  28%|██▊       | 25/89 [00:18<01:02,  1.02email/s]"
     ]
    },
    {
     "name": "stdout",
     "output_type": "stream",
     "text": [
      "info@recruitment-solutionz.com email sent successfully.\n"
     ]
    },
    {
     "name": "stderr",
     "output_type": "stream",
     "text": [
      "Sending Emails:  29%|██▉       | 26/89 [00:19<00:55,  1.13email/s]"
     ]
    },
    {
     "name": "stdout",
     "output_type": "stream",
     "text": [
      "info@boomrecruitment.nl email sent successfully.\n"
     ]
    },
    {
     "name": "stderr",
     "output_type": "stream",
     "text": [
      "Sending Emails:  30%|███       | 27/89 [00:20<00:51,  1.21email/s]"
     ]
    },
    {
     "name": "stdout",
     "output_type": "stream",
     "text": [
      "info@care-about.nl email sent successfully.\n"
     ]
    },
    {
     "name": "stderr",
     "output_type": "stream",
     "text": [
      "Sending Emails:  31%|███▏      | 28/89 [00:20<00:48,  1.25email/s]"
     ]
    },
    {
     "name": "stdout",
     "output_type": "stream",
     "text": [
      "info@trend.nl email sent successfully.\n"
     ]
    },
    {
     "name": "stderr",
     "output_type": "stream",
     "text": [
      "Sending Emails:  33%|███▎      | 29/89 [00:21<00:52,  1.14email/s]"
     ]
    },
    {
     "name": "stdout",
     "output_type": "stream",
     "text": [
      "info@vitec.nl email sent successfully.\n"
     ]
    },
    {
     "name": "stderr",
     "output_type": "stream",
     "text": [
      "Sending Emails:  34%|███▎      | 30/89 [00:22<00:49,  1.19email/s]"
     ]
    },
    {
     "name": "stdout",
     "output_type": "stream",
     "text": [
      "info@deroo.nl email sent successfully.\n"
     ]
    },
    {
     "name": "stderr",
     "output_type": "stream",
     "text": [
      "Sending Emails:  35%|███▍      | 31/89 [00:23<00:50,  1.14email/s]"
     ]
    },
    {
     "name": "stdout",
     "output_type": "stream",
     "text": [
      "info@bosmanvos.nl email sent successfully.\n"
     ]
    },
    {
     "name": "stderr",
     "output_type": "stream",
     "text": [
      "Sending Emails:  36%|███▌      | 32/89 [00:24<00:46,  1.22email/s]"
     ]
    },
    {
     "name": "stdout",
     "output_type": "stream",
     "text": [
      "info@networkapp.com email sent successfully.\n"
     ]
    },
    {
     "name": "stderr",
     "output_type": "stream",
     "text": [
      "Sending Emails:  37%|███▋      | 33/89 [00:25<00:44,  1.26email/s]"
     ]
    },
    {
     "name": "stdout",
     "output_type": "stream",
     "text": [
      "info@q-logic.nl email sent successfully.\n"
     ]
    },
    {
     "name": "stderr",
     "output_type": "stream",
     "text": [
      "Sending Emails:  38%|███▊      | 34/89 [00:25<00:43,  1.27email/s]"
     ]
    },
    {
     "name": "stdout",
     "output_type": "stream",
     "text": [
      "info@aannemerbos.nl email sent successfully.\n"
     ]
    },
    {
     "name": "stderr",
     "output_type": "stream",
     "text": [
      "Sending Emails:  39%|███▉      | 35/89 [00:26<00:38,  1.40email/s]"
     ]
    },
    {
     "name": "stdout",
     "output_type": "stream",
     "text": [
      "info@adj.nl email sent successfully.\n"
     ]
    },
    {
     "name": "stderr",
     "output_type": "stream",
     "text": [
      "Sending Emails:  40%|████      | 36/89 [00:26<00:37,  1.42email/s]"
     ]
    },
    {
     "name": "stdout",
     "output_type": "stream",
     "text": [
      "info@novicum.nl email sent successfully.\n"
     ]
    },
    {
     "name": "stderr",
     "output_type": "stream",
     "text": [
      "Sending Emails:  42%|████▏     | 37/89 [00:27<00:41,  1.26email/s]"
     ]
    },
    {
     "name": "stdout",
     "output_type": "stream",
     "text": [
      "info@keypoint.eu email sent successfully.\n"
     ]
    },
    {
     "name": "stderr",
     "output_type": "stream",
     "text": [
      "Sending Emails:  43%|████▎     | 38/89 [00:28<00:41,  1.24email/s]"
     ]
    },
    {
     "name": "stdout",
     "output_type": "stream",
     "text": [
      "info@codator.net email sent successfully.\n"
     ]
    },
    {
     "name": "stderr",
     "output_type": "stream",
     "text": [
      "Sending Emails:  44%|████▍     | 39/89 [00:29<00:41,  1.21email/s]"
     ]
    },
    {
     "name": "stdout",
     "output_type": "stream",
     "text": [
      "info@orangerecruitment.nl email sent successfully.\n"
     ]
    },
    {
     "name": "stderr",
     "output_type": "stream",
     "text": [
      "Sending Emails:  45%|████▍     | 40/89 [00:30<00:37,  1.30email/s]"
     ]
    },
    {
     "name": "stdout",
     "output_type": "stream",
     "text": [
      "info@fonds21.nl email sent successfully.\n"
     ]
    },
    {
     "name": "stderr",
     "output_type": "stream",
     "text": [
      "Sending Emails:  46%|████▌     | 41/89 [00:31<00:36,  1.32email/s]"
     ]
    },
    {
     "name": "stdout",
     "output_type": "stream",
     "text": [
      "info@trend.nl email sent successfully.\n"
     ]
    },
    {
     "name": "stderr",
     "output_type": "stream",
     "text": [
      "Sending Emails:  47%|████▋     | 42/89 [00:32<00:47,  1.02s/email]"
     ]
    },
    {
     "name": "stdout",
     "output_type": "stream",
     "text": [
      "info.nl@ascom.com email sent successfully.\n"
     ]
    },
    {
     "name": "stderr",
     "output_type": "stream",
     "text": [
      "Sending Emails:  48%|████▊     | 43/89 [00:34<01:00,  1.32s/email]"
     ]
    },
    {
     "name": "stdout",
     "output_type": "stream",
     "text": [
      "info@humblerecruitment.nl email sent successfully.\n"
     ]
    },
    {
     "name": "stderr",
     "output_type": "stream",
     "text": [
      "Sending Emails:  49%|████▉     | 44/89 [00:35<00:53,  1.18s/email]"
     ]
    },
    {
     "name": "stdout",
     "output_type": "stream",
     "text": [
      "info@power4people.nl email sent successfully.\n"
     ]
    },
    {
     "name": "stderr",
     "output_type": "stream",
     "text": [
      "Sending Emails:  51%|█████     | 45/89 [00:36<00:54,  1.25s/email]"
     ]
    },
    {
     "name": "stdout",
     "output_type": "stream",
     "text": [
      "info@pesant.nl email sent successfully.\n"
     ]
    },
    {
     "name": "stderr",
     "output_type": "stream",
     "text": [
      "Sending Emails:  52%|█████▏    | 46/89 [00:37<00:47,  1.11s/email]"
     ]
    },
    {
     "name": "stdout",
     "output_type": "stream",
     "text": [
      "info@novadia.nl email sent successfully.\n"
     ]
    },
    {
     "name": "stderr",
     "output_type": "stream",
     "text": [
      "Sending Emails:  53%|█████▎    | 47/89 [00:38<00:41,  1.00email/s]"
     ]
    },
    {
     "name": "stdout",
     "output_type": "stream",
     "text": [
      "info@topselectgroep.nl email sent successfully.\n"
     ]
    },
    {
     "name": "stderr",
     "output_type": "stream",
     "text": [
      "Sending Emails:  54%|█████▍    | 48/89 [00:39<00:37,  1.09email/s]"
     ]
    },
    {
     "name": "stdout",
     "output_type": "stream",
     "text": [
      "info@houseofbeta.nl email sent successfully.\n"
     ]
    },
    {
     "name": "stderr",
     "output_type": "stream",
     "text": [
      "Sending Emails:  55%|█████▌    | 49/89 [00:40<00:36,  1.09email/s]"
     ]
    },
    {
     "name": "stdout",
     "output_type": "stream",
     "text": [
      "info@talent-pro.com email sent successfully.\n"
     ]
    },
    {
     "name": "stderr",
     "output_type": "stream",
     "text": [
      "Sending Emails:  56%|█████▌    | 50/89 [00:41<00:36,  1.08email/s]"
     ]
    },
    {
     "name": "stdout",
     "output_type": "stream",
     "text": [
      "info@mount.consulting email sent successfully.\n"
     ]
    },
    {
     "name": "stderr",
     "output_type": "stream",
     "text": [
      "Sending Emails:  57%|█████▋    | 51/89 [00:41<00:34,  1.10email/s]"
     ]
    },
    {
     "name": "stdout",
     "output_type": "stream",
     "text": [
      "info@qtalent.nl email sent successfully.\n"
     ]
    },
    {
     "name": "stderr",
     "output_type": "stream",
     "text": [
      "Sending Emails:  58%|█████▊    | 52/89 [00:42<00:34,  1.07email/s]"
     ]
    },
    {
     "name": "stdout",
     "output_type": "stream",
     "text": [
      "info@voortekst.nl email sent successfully.\n"
     ]
    },
    {
     "name": "stderr",
     "output_type": "stream",
     "text": [
      "Sending Emails:  60%|█████▉    | 53/89 [00:43<00:31,  1.13email/s]"
     ]
    },
    {
     "name": "stdout",
     "output_type": "stream",
     "text": [
      "info@workpeoplebv.nl email sent successfully.\n"
     ]
    },
    {
     "name": "stderr",
     "output_type": "stream",
     "text": [
      "Sending Emails:  61%|██████    | 54/89 [00:44<00:29,  1.18email/s]"
     ]
    },
    {
     "name": "stdout",
     "output_type": "stream",
     "text": [
      "info@amigasuitzendbureau.nl email sent successfully.\n"
     ]
    },
    {
     "name": "stderr",
     "output_type": "stream",
     "text": [
      "Sending Emails:  62%|██████▏   | 55/89 [00:45<00:27,  1.22email/s]"
     ]
    },
    {
     "name": "stdout",
     "output_type": "stream",
     "text": [
      "info@uitzendbureau-zorgflex.nl email sent successfully.\n"
     ]
    },
    {
     "name": "stderr",
     "output_type": "stream",
     "text": [
      "Sending Emails:  63%|██████▎   | 56/89 [00:46<00:26,  1.24email/s]"
     ]
    },
    {
     "name": "stdout",
     "output_type": "stream",
     "text": [
      "info@peoplez.nl email sent successfully.\n"
     ]
    },
    {
     "name": "stderr",
     "output_type": "stream",
     "text": [
      "Sending Emails:  64%|██████▍   | 57/89 [00:46<00:24,  1.29email/s]"
     ]
    },
    {
     "name": "stdout",
     "output_type": "stream",
     "text": [
      "info@eagerpeople.nl email sent successfully.\n"
     ]
    },
    {
     "name": "stderr",
     "output_type": "stream",
     "text": [
      "Sending Emails:  65%|██████▌   | 58/89 [00:47<00:22,  1.35email/s]"
     ]
    },
    {
     "name": "stdout",
     "output_type": "stream",
     "text": [
      "info@jijonline.nu email sent successfully.\n"
     ]
    },
    {
     "name": "stderr",
     "output_type": "stream",
     "text": [
      "Sending Emails:  66%|██████▋   | 59/89 [00:48<00:21,  1.39email/s]"
     ]
    },
    {
     "name": "stdout",
     "output_type": "stream",
     "text": [
      "info@loopbaanstappen.nl email sent successfully.\n"
     ]
    },
    {
     "name": "stderr",
     "output_type": "stream",
     "text": [
      "Sending Emails:  67%|██████▋   | 60/89 [00:48<00:21,  1.36email/s]"
     ]
    },
    {
     "name": "stdout",
     "output_type": "stream",
     "text": [
      "info@studentalent.nl email sent successfully.\n"
     ]
    },
    {
     "name": "stderr",
     "output_type": "stream",
     "text": [
      "Sending Emails:  69%|██████▊   | 61/89 [00:49<00:19,  1.42email/s]"
     ]
    },
    {
     "name": "stdout",
     "output_type": "stream",
     "text": [
      "info@ziebenascare.nl email sent successfully.\n"
     ]
    },
    {
     "name": "stderr",
     "output_type": "stream",
     "text": [
      "Sending Emails:  70%|██████▉   | 62/89 [00:50<00:22,  1.19email/s]"
     ]
    },
    {
     "name": "stdout",
     "output_type": "stream",
     "text": [
      "info@mac-international.nl email sent successfully.\n"
     ]
    },
    {
     "name": "stderr",
     "output_type": "stream",
     "text": [
      "Sending Emails:  71%|███████   | 63/89 [00:51<00:21,  1.23email/s]"
     ]
    },
    {
     "name": "stdout",
     "output_type": "stream",
     "text": [
      "info@careercontrol.nl email sent successfully.\n"
     ]
    },
    {
     "name": "stderr",
     "output_type": "stream",
     "text": [
      "Sending Emails:  72%|███████▏  | 64/89 [00:52<00:19,  1.28email/s]"
     ]
    },
    {
     "name": "stdout",
     "output_type": "stream",
     "text": [
      "info@unique.nl email sent successfully.\n"
     ]
    },
    {
     "name": "stderr",
     "output_type": "stream",
     "text": [
      "Sending Emails:  73%|███████▎  | 65/89 [00:52<00:17,  1.35email/s]"
     ]
    },
    {
     "name": "stdout",
     "output_type": "stream",
     "text": [
      "info@integrand.nl email sent successfully.\n"
     ]
    },
    {
     "name": "stderr",
     "output_type": "stream",
     "text": [
      "Sending Emails:  74%|███████▍  | 66/89 [00:53<00:16,  1.43email/s]"
     ]
    },
    {
     "name": "stdout",
     "output_type": "stream",
     "text": [
      "info@fourparties.nl email sent successfully.\n"
     ]
    },
    {
     "name": "stderr",
     "output_type": "stream",
     "text": [
      "Sending Emails:  75%|███████▌  | 67/89 [00:54<00:15,  1.42email/s]"
     ]
    },
    {
     "name": "stdout",
     "output_type": "stream",
     "text": [
      "info@aigency.com email sent successfully.\n"
     ]
    },
    {
     "name": "stderr",
     "output_type": "stream",
     "text": [
      "Sending Emails:  76%|███████▋  | 68/89 [00:54<00:16,  1.29email/s]"
     ]
    },
    {
     "name": "stdout",
     "output_type": "stream",
     "text": [
      "info@pmdr.nl email sent successfully.\n"
     ]
    },
    {
     "name": "stderr",
     "output_type": "stream",
     "text": [
      "Sending Emails:  78%|███████▊  | 69/89 [00:55<00:16,  1.23email/s]"
     ]
    },
    {
     "name": "stdout",
     "output_type": "stream",
     "text": [
      "info@pharmamediair.nl email sent successfully.\n"
     ]
    },
    {
     "name": "stderr",
     "output_type": "stream",
     "text": [
      "Sending Emails:  79%|███████▊  | 70/89 [00:56<00:14,  1.34email/s]"
     ]
    },
    {
     "name": "stdout",
     "output_type": "stream",
     "text": [
      "info@calderwerkt.nl email sent successfully.\n"
     ]
    },
    {
     "name": "stderr",
     "output_type": "stream",
     "text": [
      "Sending Emails:  80%|███████▉  | 71/89 [00:56<00:12,  1.48email/s]"
     ]
    },
    {
     "name": "stdout",
     "output_type": "stream",
     "text": [
      "info@allrounderjobs.nl email sent successfully.\n"
     ]
    },
    {
     "name": "stderr",
     "output_type": "stream",
     "text": [
      "Sending Emails:  81%|████████  | 72/89 [00:57<00:12,  1.37email/s]"
     ]
    },
    {
     "name": "stdout",
     "output_type": "stream",
     "text": [
      "info@startpeople.nl email sent successfully.\n"
     ]
    },
    {
     "name": "stderr",
     "output_type": "stream",
     "text": [
      "Sending Emails:  82%|████████▏ | 73/89 [00:58<00:11,  1.37email/s]"
     ]
    },
    {
     "name": "stdout",
     "output_type": "stream",
     "text": [
      "info@mac-people.nl email sent successfully.\n"
     ]
    },
    {
     "name": "stderr",
     "output_type": "stream",
     "text": [
      "Sending Emails:  83%|████████▎ | 74/89 [00:59<00:11,  1.35email/s]"
     ]
    },
    {
     "name": "stdout",
     "output_type": "stream",
     "text": [
      "info@flexchoice.nl email sent successfully.\n"
     ]
    },
    {
     "name": "stderr",
     "output_type": "stream",
     "text": [
      "Sending Emails:  84%|████████▍ | 75/89 [01:00<00:10,  1.29email/s]"
     ]
    },
    {
     "name": "stdout",
     "output_type": "stream",
     "text": [
      "info@staffyou.nl email sent successfully.\n"
     ]
    },
    {
     "name": "stderr",
     "output_type": "stream",
     "text": [
      "Sending Emails:  85%|████████▌ | 76/89 [01:01<00:11,  1.16email/s]"
     ]
    },
    {
     "name": "stdout",
     "output_type": "stream",
     "text": [
      "info@nobrothers.nl email sent successfully.\n"
     ]
    },
    {
     "name": "stderr",
     "output_type": "stream",
     "text": [
      "Sending Emails:  87%|████████▋ | 77/89 [01:02<00:10,  1.19email/s]"
     ]
    },
    {
     "name": "stdout",
     "output_type": "stream",
     "text": [
      "info@loopbaanstappen.nl email sent successfully.\n"
     ]
    },
    {
     "name": "stderr",
     "output_type": "stream",
     "text": [
      "Sending Emails:  88%|████████▊ | 78/89 [01:02<00:08,  1.22email/s]"
     ]
    },
    {
     "name": "stdout",
     "output_type": "stream",
     "text": [
      "info@koersloopbaancoaching.nl email sent successfully.\n"
     ]
    },
    {
     "name": "stderr",
     "output_type": "stream",
     "text": [
      "Sending Emails:  89%|████████▉ | 79/89 [01:03<00:07,  1.28email/s]"
     ]
    },
    {
     "name": "stdout",
     "output_type": "stream",
     "text": [
      "info@loopbaaninzicht.nl email sent successfully.\n"
     ]
    },
    {
     "name": "stderr",
     "output_type": "stream",
     "text": [
      "Sending Emails:  90%|████████▉ | 80/89 [01:04<00:06,  1.33email/s]"
     ]
    },
    {
     "name": "stdout",
     "output_type": "stream",
     "text": [
      "info@carrierevormer.nl email sent successfully.\n"
     ]
    },
    {
     "name": "stderr",
     "output_type": "stream",
     "text": [
      "Sending Emails:  91%|█████████ | 81/89 [01:04<00:05,  1.42email/s]"
     ]
    },
    {
     "name": "stdout",
     "output_type": "stream",
     "text": [
      "info@ggz-werving.nl email sent successfully.\n"
     ]
    },
    {
     "name": "stderr",
     "output_type": "stream",
     "text": [
      "Sending Emails:  92%|█████████▏| 82/89 [01:05<00:05,  1.33email/s]"
     ]
    },
    {
     "name": "stdout",
     "output_type": "stream",
     "text": [
      "info@uitbestedingscentrum.nl email sent successfully.\n"
     ]
    },
    {
     "name": "stderr",
     "output_type": "stream",
     "text": [
      "Sending Emails:  93%|█████████▎| 83/89 [01:06<00:04,  1.25email/s]"
     ]
    },
    {
     "name": "stdout",
     "output_type": "stream",
     "text": [
      "info@topsecretaries.nl email sent successfully.\n"
     ]
    },
    {
     "name": "stderr",
     "output_type": "stream",
     "text": [
      "Sending Emails:  94%|█████████▍| 84/89 [01:07<00:04,  1.16email/s]"
     ]
    },
    {
     "name": "stdout",
     "output_type": "stream",
     "text": [
      " info@adecco.nl email sent successfully.\n"
     ]
    },
    {
     "name": "stderr",
     "output_type": "stream",
     "text": [
      "Sending Emails:  96%|█████████▌| 85/89 [01:08<00:03,  1.29email/s]"
     ]
    },
    {
     "name": "stdout",
     "output_type": "stream",
     "text": [
      "info@bolar.co email sent successfully.\n"
     ]
    },
    {
     "name": "stderr",
     "output_type": "stream",
     "text": [
      "Sending Emails:  97%|█████████▋| 86/89 [01:08<00:02,  1.35email/s]"
     ]
    },
    {
     "name": "stdout",
     "output_type": "stream",
     "text": [
      "ginggeli@hotmail.com email sent successfully.\n"
     ]
    },
    {
     "name": "stderr",
     "output_type": "stream",
     "text": [
      "Sending Emails:  98%|█████████▊| 87/89 [01:09<00:01,  1.51email/s]"
     ]
    },
    {
     "name": "stdout",
     "output_type": "stream",
     "text": [
      "qingge43@gmail.com email sent successfully.\n"
     ]
    },
    {
     "name": "stderr",
     "output_type": "stream",
     "text": [
      "Sending Emails:  99%|█████████▉| 88/89 [01:10<00:00,  1.45email/s]"
     ]
    },
    {
     "name": "stdout",
     "output_type": "stream",
     "text": [
      "Mohamed.doudellla@gmail.com email sent successfully.\n"
     ]
    },
    {
     "name": "stderr",
     "output_type": "stream",
     "text": [
      "Sending Emails: 100%|██████████| 89/89 [01:10<00:00,  1.26email/s]"
     ]
    },
    {
     "name": "stdout",
     "output_type": "stream",
     "text": [
      "Info@doudella.com email sent successfully.\n"
     ]
    },
    {
     "name": "stderr",
     "output_type": "stream",
     "text": [
      "\n"
     ]
    },
    {
     "ename": "",
     "evalue": "",
     "output_type": "error",
     "traceback": [
      "\u001b[1;31mThe Kernel crashed while executing code in the current cell or a previous cell. \n",
      "\u001b[1;31mPlease review the code in the cell(s) to identify a possible cause of the failure. \n",
      "\u001b[1;31mClick <a href='https://aka.ms/vscodeJupyterKernelCrash'>here</a> for more info. \n",
      "\u001b[1;31mView Jupyter <a href='command:jupyter.viewOutput'>log</a> for further details."
     ]
    }
   ],
   "source": [
    "def send_email(df, sender_email, username, password, hostname, port):\n",
    "\n",
    "    progress_bar = tqdm(total=len(df), desc=\"Sending Emails\", unit=\"email\")\n",
    "    # Iterate over rows and send emails\n",
    "    for index, row in df.iterrows():\n",
    "        recipient_email = row['email']\n",
    "        title = row['title']\n",
    "        \n",
    "        # Email content\n",
    "        subject = \"Ontdek de kracht van gerichte marketing voor jouw lokale bedrijf!\"\n",
    "        body = f\"\"\"Beste {title},<br />\n",
    "            <br />\n",
    "            Klaar om jouw lokale bedrijf te laten groeien met gerichte marketing? Ontdek onze exclusieve e-maillijsten voor lokale bedrijven!<br />            \n",
    "            \n",
    "            <ul>\n",
    "                <li>✔️ <strong>Impact</strong>: Bereik potentiële klanten met een impactvolle benadering.</li>\n",
    "                <li>✔️ <strong>Omzetboost</strong>: Verhoog je omzet met een uitgebreide lijst van e-mailadressen.</li>\n",
    "                <li>✔️ <strong>Optimaliseer</strong>: Bereik jouw doelgroep persoonlijk en relevant.</li>\n",
    "                <li>✔️ <strong>Waardevolle contacten</strong>: Bespaar tijd en moeite met directe toegang tot waardevolle contacten.</li>\n",
    "            </ul>\n",
    "            <br />\n",
    "            Bekijk ons <strong>exclusieve aanbod</strong> op <a href=\"http://www.bolar.co\">www.bolar.co</a> en vraag vrijblijvend een gratis offerte aan. Til jouw marketing naar een hoger niveau en zie direct resultaat<br />\n",
    "            <br />\n",
    "            Met vriendelijke groet,<br />\n",
    "            Het team van Bolar\n",
    "            \"\"\"\n",
    "\n",
    "        # Construct email message\n",
    "        message = MIMEMultipart()\n",
    "        message['From'] = sender_email\n",
    "        message['To'] = recipient_email\n",
    "        message['Subject'] = subject\n",
    "        message.attach(MIMEText(body, 'html'))\n",
    "\n",
    "        try:\n",
    "            # Create SMTP session with SSL/TLS\n",
    "            with smtplib.SMTP_SSL(hostname, port) as server:\n",
    "                server.login(username, password)\n",
    "                server.sendmail(sender_email, recipient_email, message.as_string())\n",
    "                print(f\"{recipient_email} email sent successfully.\")\n",
    "        except Exception as e:\n",
    "            print(f\"{recipient_email} Failed to send: {e}\")\n",
    "        \n",
    "        # Update the progress bar\n",
    "        progress_bar.update(1)\n",
    "\n",
    "    # Close the progress bar\n",
    "    progress_bar.close()\n",
    "\n",
    "send_email(df, sender_email, username, password, hostname, port)"
   ]
  },
  {
   "cell_type": "code",
   "execution_count": null,
   "metadata": {},
   "outputs": [],
   "source": []
  },
  {
   "cell_type": "code",
   "execution_count": null,
   "metadata": {},
   "outputs": [],
   "source": []
  },
  {
   "cell_type": "code",
   "execution_count": null,
   "metadata": {},
   "outputs": [],
   "source": []
  },
  {
   "cell_type": "code",
   "execution_count": null,
   "metadata": {},
   "outputs": [],
   "source": []
  },
  {
   "cell_type": "code",
   "execution_count": null,
   "metadata": {},
   "outputs": [],
   "source": []
  },
  {
   "cell_type": "code",
   "execution_count": null,
   "metadata": {},
   "outputs": [],
   "source": []
  },
  {
   "cell_type": "code",
   "execution_count": null,
   "metadata": {},
   "outputs": [],
   "source": []
  }
 ],
 "metadata": {
  "kernelspec": {
   "display_name": "wenv",
   "language": "python",
   "name": "python3"
  },
  "language_info": {
   "codemirror_mode": {
    "name": "ipython",
    "version": 3
   },
   "file_extension": ".py",
   "mimetype": "text/x-python",
   "name": "python",
   "nbconvert_exporter": "python",
   "pygments_lexer": "ipython3",
   "version": "3.11.5"
  }
 },
 "nbformat": 4,
 "nbformat_minor": 2
}
